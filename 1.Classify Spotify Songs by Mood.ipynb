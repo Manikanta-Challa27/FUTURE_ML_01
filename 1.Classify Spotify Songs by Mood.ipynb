{
 "cells": [
  {
   "cell_type": "markdown",
   "id": "f463e329-dd37-4ad6-808d-2401b957a8c9",
   "metadata": {},
   "source": [
    "Load the Data"
   ]
  },
  {
   "cell_type": "code",
   "execution_count": 137,
   "id": "32def508-7ccc-4ed1-9b96-e4fdec5aa7e5",
   "metadata": {},
   "outputs": [],
   "source": [
    "import pandas as pd\n",
    "df = pd.read_csv(\"N:/Interships/Future Intern ML/Datasets/Spotify dataset.csv\")"
   ]
  },
  {
   "cell_type": "code",
   "execution_count": 139,
   "id": "1604e571-608a-4363-8fc3-dd11c26021a2",
   "metadata": {
    "scrolled": true
   },
   "outputs": [
    {
     "name": "stdout",
     "output_type": "stream",
     "text": [
      "<class 'pandas.core.frame.DataFrame'>\n",
      "RangeIndex: 686 entries, 0 to 685\n",
      "Data columns (total 19 columns):\n",
      " #   Column            Non-Null Count  Dtype  \n",
      "---  ------            --------------  -----  \n",
      " 0   name              686 non-null    object \n",
      " 1   album             686 non-null    object \n",
      " 2   artist            686 non-null    object \n",
      " 3   id                686 non-null    object \n",
      " 4   release_date      686 non-null    object \n",
      " 5   popularity        686 non-null    int64  \n",
      " 6   length            686 non-null    int64  \n",
      " 7   danceability      686 non-null    float64\n",
      " 8   acousticness      686 non-null    float64\n",
      " 9   energy            686 non-null    float64\n",
      " 10  instrumentalness  686 non-null    float64\n",
      " 11  liveness          686 non-null    float64\n",
      " 12  valence           686 non-null    float64\n",
      " 13  loudness          686 non-null    float64\n",
      " 14  speechiness       686 non-null    float64\n",
      " 15  tempo             686 non-null    float64\n",
      " 16  key               686 non-null    int64  \n",
      " 17  time_signature    686 non-null    int64  \n",
      " 18  mood              686 non-null    object \n",
      "dtypes: float64(9), int64(4), object(6)\n",
      "memory usage: 102.0+ KB\n"
     ]
    }
   ],
   "source": [
    "# basic information about the data\n",
    "df.info()"
   ]
  },
  {
   "cell_type": "code",
   "execution_count": 141,
   "id": "23c84f94-f6f7-4228-b754-1b00030d8059",
   "metadata": {},
   "outputs": [
    {
     "data": {
      "text/html": [
       "<div>\n",
       "<style scoped>\n",
       "    .dataframe tbody tr th:only-of-type {\n",
       "        vertical-align: middle;\n",
       "    }\n",
       "\n",
       "    .dataframe tbody tr th {\n",
       "        vertical-align: top;\n",
       "    }\n",
       "\n",
       "    .dataframe thead th {\n",
       "        text-align: right;\n",
       "    }\n",
       "</style>\n",
       "<table border=\"1\" class=\"dataframe\">\n",
       "  <thead>\n",
       "    <tr style=\"text-align: right;\">\n",
       "      <th></th>\n",
       "      <th>name</th>\n",
       "      <th>album</th>\n",
       "      <th>artist</th>\n",
       "      <th>id</th>\n",
       "      <th>release_date</th>\n",
       "      <th>popularity</th>\n",
       "      <th>length</th>\n",
       "      <th>danceability</th>\n",
       "      <th>acousticness</th>\n",
       "      <th>energy</th>\n",
       "      <th>instrumentalness</th>\n",
       "      <th>liveness</th>\n",
       "      <th>valence</th>\n",
       "      <th>loudness</th>\n",
       "      <th>speechiness</th>\n",
       "      <th>tempo</th>\n",
       "      <th>key</th>\n",
       "      <th>time_signature</th>\n",
       "      <th>mood</th>\n",
       "    </tr>\n",
       "  </thead>\n",
       "  <tbody>\n",
       "    <tr>\n",
       "      <th>0</th>\n",
       "      <td>1999</td>\n",
       "      <td>1999</td>\n",
       "      <td>Prince</td>\n",
       "      <td>2H7PHVdQ3mXqEHXcvclTB0</td>\n",
       "      <td>1982-10-27</td>\n",
       "      <td>68</td>\n",
       "      <td>379266</td>\n",
       "      <td>0.866</td>\n",
       "      <td>0.13700</td>\n",
       "      <td>0.730</td>\n",
       "      <td>0.000000</td>\n",
       "      <td>0.0843</td>\n",
       "      <td>0.625</td>\n",
       "      <td>-8.201</td>\n",
       "      <td>0.0767</td>\n",
       "      <td>118.523</td>\n",
       "      <td>5</td>\n",
       "      <td>4</td>\n",
       "      <td>Happy</td>\n",
       "    </tr>\n",
       "    <tr>\n",
       "      <th>1</th>\n",
       "      <td>23</td>\n",
       "      <td>23</td>\n",
       "      <td>Blonde Redhead</td>\n",
       "      <td>4HIwL9ii9CcXpTOTzMq0MP</td>\n",
       "      <td>2007-04-16</td>\n",
       "      <td>43</td>\n",
       "      <td>318800</td>\n",
       "      <td>0.381</td>\n",
       "      <td>0.01890</td>\n",
       "      <td>0.832</td>\n",
       "      <td>0.196000</td>\n",
       "      <td>0.1530</td>\n",
       "      <td>0.166</td>\n",
       "      <td>-5.069</td>\n",
       "      <td>0.0492</td>\n",
       "      <td>120.255</td>\n",
       "      <td>8</td>\n",
       "      <td>4</td>\n",
       "      <td>Sad</td>\n",
       "    </tr>\n",
       "    <tr>\n",
       "      <th>2</th>\n",
       "      <td>9 Crimes</td>\n",
       "      <td>9</td>\n",
       "      <td>Damien Rice</td>\n",
       "      <td>5GZEeowhvSieFDiR8fQ2im</td>\n",
       "      <td>2006-11-06</td>\n",
       "      <td>60</td>\n",
       "      <td>217946</td>\n",
       "      <td>0.346</td>\n",
       "      <td>0.91300</td>\n",
       "      <td>0.139</td>\n",
       "      <td>0.000077</td>\n",
       "      <td>0.0934</td>\n",
       "      <td>0.116</td>\n",
       "      <td>-15.326</td>\n",
       "      <td>0.0321</td>\n",
       "      <td>136.168</td>\n",
       "      <td>0</td>\n",
       "      <td>4</td>\n",
       "      <td>Sad</td>\n",
       "    </tr>\n",
       "    <tr>\n",
       "      <th>3</th>\n",
       "      <td>99 Luftballons</td>\n",
       "      <td>99 Luftballons</td>\n",
       "      <td>Nena</td>\n",
       "      <td>6HA97v4wEGQ5TUClRM0XLc</td>\n",
       "      <td>1984-08-21</td>\n",
       "      <td>2</td>\n",
       "      <td>233000</td>\n",
       "      <td>0.466</td>\n",
       "      <td>0.08900</td>\n",
       "      <td>0.438</td>\n",
       "      <td>0.000006</td>\n",
       "      <td>0.1130</td>\n",
       "      <td>0.587</td>\n",
       "      <td>-12.858</td>\n",
       "      <td>0.0608</td>\n",
       "      <td>193.100</td>\n",
       "      <td>4</td>\n",
       "      <td>4</td>\n",
       "      <td>Happy</td>\n",
       "    </tr>\n",
       "    <tr>\n",
       "      <th>4</th>\n",
       "      <td>A Boy Brushed Red Living In Black And White</td>\n",
       "      <td>They're Only Chasing Safety</td>\n",
       "      <td>Underoath</td>\n",
       "      <td>47IWLfIKOKhFnz1FUEUIkE</td>\n",
       "      <td>2004-01-01</td>\n",
       "      <td>60</td>\n",
       "      <td>268000</td>\n",
       "      <td>0.419</td>\n",
       "      <td>0.00171</td>\n",
       "      <td>0.932</td>\n",
       "      <td>0.000000</td>\n",
       "      <td>0.1370</td>\n",
       "      <td>0.445</td>\n",
       "      <td>-3.604</td>\n",
       "      <td>0.1060</td>\n",
       "      <td>169.881</td>\n",
       "      <td>1</td>\n",
       "      <td>4</td>\n",
       "      <td>Energetic</td>\n",
       "    </tr>\n",
       "  </tbody>\n",
       "</table>\n",
       "</div>"
      ],
      "text/plain": [
       "                                          name                        album  \\\n",
       "0                                         1999                         1999   \n",
       "1                                           23                           23   \n",
       "2                                     9 Crimes                            9   \n",
       "3                               99 Luftballons               99 Luftballons   \n",
       "4  A Boy Brushed Red Living In Black And White  They're Only Chasing Safety   \n",
       "\n",
       "           artist                      id release_date  popularity  length  \\\n",
       "0          Prince  2H7PHVdQ3mXqEHXcvclTB0   1982-10-27          68  379266   \n",
       "1  Blonde Redhead  4HIwL9ii9CcXpTOTzMq0MP   2007-04-16          43  318800   \n",
       "2     Damien Rice  5GZEeowhvSieFDiR8fQ2im   2006-11-06          60  217946   \n",
       "3            Nena  6HA97v4wEGQ5TUClRM0XLc   1984-08-21           2  233000   \n",
       "4       Underoath  47IWLfIKOKhFnz1FUEUIkE   2004-01-01          60  268000   \n",
       "\n",
       "   danceability  acousticness  energy  instrumentalness  liveness  valence  \\\n",
       "0         0.866       0.13700   0.730          0.000000    0.0843    0.625   \n",
       "1         0.381       0.01890   0.832          0.196000    0.1530    0.166   \n",
       "2         0.346       0.91300   0.139          0.000077    0.0934    0.116   \n",
       "3         0.466       0.08900   0.438          0.000006    0.1130    0.587   \n",
       "4         0.419       0.00171   0.932          0.000000    0.1370    0.445   \n",
       "\n",
       "   loudness  speechiness    tempo  key  time_signature       mood  \n",
       "0    -8.201       0.0767  118.523    5               4      Happy  \n",
       "1    -5.069       0.0492  120.255    8               4        Sad  \n",
       "2   -15.326       0.0321  136.168    0               4        Sad  \n",
       "3   -12.858       0.0608  193.100    4               4      Happy  \n",
       "4    -3.604       0.1060  169.881    1               4  Energetic  "
      ]
     },
     "execution_count": 141,
     "metadata": {},
     "output_type": "execute_result"
    }
   ],
   "source": [
    "# show first few rows\n",
    "df.head()"
   ]
  },
  {
   "cell_type": "markdown",
   "id": "740106b2-6f00-4159-a053-6220383aa982",
   "metadata": {},
   "source": [
    "Clean the Data"
   ]
  },
  {
   "cell_type": "raw",
   "id": "d19820d2-abb1-47e3-af1b-2e6d696e7798",
   "metadata": {},
   "source": [
    "# check for missing values\n",
    "print(df.isnull().sum())"
   ]
  },
  {
   "cell_type": "code",
   "execution_count": 159,
   "id": "204aa3b5-b220-4f63-9fea-c46158f93ef0",
   "metadata": {},
   "outputs": [
    {
     "name": "stdout",
     "output_type": "stream",
     "text": [
      "['Happy' 'Sad' 'Energetic' 'Calm']\n"
     ]
    }
   ],
   "source": [
    "#our dataset contains irrelevant columns and catogical data(non-numerical features)\n",
    "df=df.drop(columns=['name','album','artist','id','release_date'],errors='ignore')\n",
    "from sklearn.preprocessing import LabelEncoder\n",
    "print(df['mood'].unique())\n",
    "label=LabelEncoder()\n",
    "df['mood']=label.fit_transform(df['mood'])\n"
   ]
  },
  {
   "cell_type": "markdown",
   "id": "620a7e40-7237-4e4c-a025-ffd0bd4f014c",
   "metadata": {},
   "source": [
    "Mood Distribution Visualization"
   ]
  },
  {
   "cell_type": "code",
   "execution_count": 145,
   "id": "ebaa0360-ab52-4a95-8f4a-08aeec5ee828",
   "metadata": {},
   "outputs": [
    {
     "name": "stderr",
     "output_type": "stream",
     "text": [
      "C:\\Users\\mani2\\AppData\\Local\\Temp\\ipykernel_20504\\895386826.py:5: FutureWarning: \n",
      "\n",
      "Passing `palette` without assigning `hue` is deprecated and will be removed in v0.14.0. Assign the `x` variable to `hue` and set `legend=False` for the same effect.\n",
      "\n",
      "  sns.countplot(data = df, x = 'mood', order = df['mood'].value_counts().index, palette = 'viridis')\n"
     ]
    },
    {
     "data": {
      "image/png": "[encoded data removed]",
      "text/plain": [
       "<Figure size 1000x500 with 1 Axes>"
      ]
     },
     "metadata": {},
     "output_type": "display_data"
    }
   ],
   "source": [
    "import matplotlib.pyplot as plt\n",
    "import seaborn as sns\n",
    "\n",
    "plt.figure(figsize = (10,5))\n",
    "sns.countplot(data = df, x = 'mood', order = df['mood'].value_counts().index, palette = 'viridis')\n",
    "plt.xticks(rotation = 45)\n",
    "plt.title(\"Distribution of Moods in Songs\")\n",
    "plt.show()"
   ]
  },
  {
   "cell_type": "markdown",
   "id": "d1925894-71b0-43fb-a461-09485c16c3cb",
   "metadata": {},
   "source": [
    "Separete dataset into features and labels"
   ]
  },
  {
   "cell_type": "code",
   "execution_count": 162,
   "id": "317589b7-6918-477a-b108-c0963e0e2c80",
   "metadata": {},
   "outputs": [
    {
     "name": "stdout",
     "output_type": "stream",
     "text": [
      "<class 'pandas.core.frame.DataFrame'>\n",
      "RangeIndex: 686 entries, 0 to 685\n",
      "Data columns (total 15 columns):\n",
      " #   Column            Non-Null Count  Dtype  \n",
      "---  ------            --------------  -----  \n",
      " 0   popularity        686 non-null    int64  \n",
      " 1   length            686 non-null    int64  \n",
      " 2   danceability      686 non-null    float64\n",
      " 3   acousticness      686 non-null    float64\n",
      " 4   energy            686 non-null    float64\n",
      " 5   instrumentalness  686 non-null    float64\n",
      " 6   liveness          686 non-null    float64\n",
      " 7   valence           686 non-null    float64\n",
      " 8   loudness          686 non-null    float64\n",
      " 9   speechiness       686 non-null    float64\n",
      " 10  tempo             686 non-null    float64\n",
      " 11  key               686 non-null    int64  \n",
      " 12  time_signature    686 non-null    int64  \n",
      " 13  mood              686 non-null    int32  \n",
      " 14  mood_encoded      686 non-null    int32  \n",
      "dtypes: float64(9), int32(2), int64(4)\n",
      "memory usage: 75.2 KB\n",
      "     popularity  length  danceability  acousticness  energy  instrumentalness  \\\n",
      "0            68  379266         0.866       0.13700  0.7300          0.000000   \n",
      "1            43  318800         0.381       0.01890  0.8320          0.196000   \n",
      "2            60  217946         0.346       0.91300  0.1390          0.000077   \n",
      "3             2  233000         0.466       0.08900  0.4380          0.000006   \n",
      "4            60  268000         0.419       0.00171  0.9320          0.000000   \n",
      "..          ...     ...           ...           ...     ...               ...   \n",
      "681          36  123066         0.402       0.96100  0.2360          0.919000   \n",
      "682           5  435080         0.452       0.75700  0.5150          0.120000   \n",
      "683          87  169265         0.642       0.78600  0.3740          0.000000   \n",
      "684          76  219146         0.561       0.91300  0.0848          0.000026   \n",
      "685          41  186331         0.377       0.99400  0.0156          0.881000   \n",
      "\n",
      "     liveness  valence  loudness  speechiness    tempo  key  time_signature  \\\n",
      "0      0.0843   0.6250    -8.201       0.0767  118.523    5               4   \n",
      "1      0.1530   0.1660    -5.069       0.0492  120.255    8               4   \n",
      "2      0.0934   0.1160   -15.326       0.0321  136.168    0               4   \n",
      "3      0.1130   0.5870   -12.858       0.0608  193.100    4               4   \n",
      "4      0.1370   0.4450    -3.604       0.1060  169.881    1               4   \n",
      "..        ...      ...       ...          ...      ...  ...             ...   \n",
      "681    0.0921   0.1460   -20.615       0.0603  129.736    0               3   \n",
      "682    0.1400   0.1910    -7.351       0.0255   80.537   11               4   \n",
      "683    0.0906   0.0799    -9.386       0.0545  124.099    4               4   \n",
      "684    0.1120   0.2060   -15.099       0.0404  102.128    2               4   \n",
      "685    0.0991   0.0804   -28.435       0.0397  140.179    0               4   \n",
      "\n",
      "     mood  \n",
      "0       2  \n",
      "1       3  \n",
      "2       3  \n",
      "3       2  \n",
      "4       1  \n",
      "..    ...  \n",
      "681     0  \n",
      "682     3  \n",
      "683     3  \n",
      "684     3  \n",
      "685     0  \n",
      "\n",
      "[686 rows x 14 columns] 0      2\n",
      "1      3\n",
      "2      3\n",
      "3      2\n",
      "4      1\n",
      "      ..\n",
      "681    0\n",
      "682    3\n",
      "683    3\n",
      "684    3\n",
      "685    0\n",
      "Name: mood_encoded, Length: 686, dtype: int32\n"
     ]
    }
   ],
   "source": [
    "df.info()\n",
    "x,y=df.iloc[:,0:-1],df.iloc[:,-1]\n",
    "print(x,y)"
   ]
  },
  {
   "cell_type": "markdown",
   "id": "d881b597-cc03-4618-9741-9eed5f0911ce",
   "metadata": {},
   "source": [
    "Encode Mood Labels"
   ]
  },
  {
   "cell_type": "code",
   "execution_count": 149,
   "id": "8546ba46-d079-4100-b63a-4abb5ae99b23",
   "metadata": {},
   "outputs": [
    {
     "name": "stdout",
     "output_type": "stream",
     "text": [
      "Mood Encoding: {'Calm': 0, 'Energetic': 1, 'Happy': 2, 'Sad': 3}\n"
     ]
    }
   ],
   "source": [
    "from sklearn.preprocessing import LabelEncoder\n",
    "\n",
    "# initialize label encoder\n",
    "le = LabelEncoder()\n",
    "\n",
    "# encode the mood column\n",
    "df['mood_encoded'] = le.fit_transform(df['mood'])\n",
    "\n",
    "# mapping of moods to numbers\n",
    "mood_mapping = dict(zip(le.classes_, le.transform(le.classes_)))\n",
    "print(\"Mood Encoding:\", mood_mapping)\n",
    "\n",
    "# update target variable\n",
    "y = df['mood_encoded']"
   ]
  },
  {
   "cell_type": "markdown",
   "id": "fa270b5f-1a16-4bc5-b65b-239b12c155ab",
   "metadata": {},
   "source": [
    "Split Data into Training & Testing Sets"
   ]
  },
  {
   "cell_type": "code",
   "execution_count": 164,
   "id": "aa9acd98-2f45-40e8-8e6c-2b2c52c986ae",
   "metadata": {},
   "outputs": [],
   "source": [
    "\n",
    "from sklearn.model_selection import train_test_split\n",
    "a,b,c,d=train_test_split(x,y,test_size=0.2,random_state=42)"
   ]
  },
  {
   "cell_type": "markdown",
   "id": "c391b0fb-3862-4455-b53f-aca6e85fb94b",
   "metadata": {},
   "source": [
    "Train a Machine Learning Model"
   ]
  },
  {
   "cell_type": "code",
   "execution_count": 166,
   "id": "9f3bf806-a326-48b6-aa32-300117e43323",
   "metadata": {},
   "outputs": [
    {
     "name": "stdout",
     "output_type": "stream",
     "text": [
      "1.0\n"
     ]
    }
   ],
   "source": [
    "from sklearn.ensemble import RandomForestClassifier\n",
    "model=RandomForestClassifier(max_depth=20)\n",
    "model.fit(a,c)\n",
    "print(model.score(b,d))"
   ]
  },
  {
   "cell_type": "code",
   "execution_count": 170,
   "id": "672f3607-5d07-4e72-b293-52f0b8327b78",
   "metadata": {},
   "outputs": [
    {
     "name": "stdout",
     "output_type": "stream",
     "text": [
      "confusion matrix [[41  0  0  0]\n",
      " [ 0 32  0  0]\n",
      " [ 0  0 25  0]\n",
      " [ 0  0  0 40]]\n",
      "precision 1.0\n",
      "recall 1.0\n"
     ]
    }
   ],
   "source": [
    "# evaluation metrics\n",
    "from sklearn.metrics import confusion_matrix,accuracy_score,precision_score,recall_score,f1_score\n",
    "y_pre=model.predict(b)\n",
    "cm=confusion_matrix(d,y_pre)\n",
    "pre=precision_score(d,y_pre,average=\"weighted\")\n",
    "re=recall_score(d,y_pre,average=\"weighted\")\n",
    "print(\"confusion matrix\",cm)\n",
    "print(\"precision\",pre)\n",
    "print(\"recall\",re)"
   ]
  },
  {
   "cell_type": "markdown",
   "id": "96365ece-995b-4c93-9f66-3053408b9f79",
   "metadata": {},
   "source": [
    "Prediction"
   ]
  },
  {
   "cell_type": "code",
   "execution_count": 173,
   "id": "7032ac82-8a65-419c-8c8f-cb026f7b7b83",
   "metadata": {},
   "outputs": [
    {
     "name": "stdout",
     "output_type": "stream",
     "text": [
      "calm\n"
     ]
    }
   ],
   "source": [
    "x1=model.predict(df.head(7).iloc[:,:-1])\n",
    "x=x1[6]\n",
    "if(x==0):\n",
    "    print(\"calm\")\n",
    "elif(x==1):\n",
    "    print(\"energetic\")\n",
    "elif(x==2):\n",
    "    print(\"happy\")\n",
    "else:\n",
    "    print(\"sad\")"
   ]
  }
 ],
 "metadata": {
  "kernelspec": {
   "display_name": "Python 3 (ipykernel)",
   "language": "python",
   "name": "python3"
  },
  "language_info": {
   "codemirror_mode": {
    "name": "ipython",
    "version": 3
   },
   "file_extension": ".py",
   "mimetype": "text/x-python",
   "name": "python",
   "nbconvert_exporter": "python",
   "pygments_lexer": "ipython3",
   "version": "3.12.4"
  }
 },
 "nbformat": 4,
 "nbformat_minor": 5
}
